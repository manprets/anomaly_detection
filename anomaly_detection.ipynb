{
 "cells": [
  {
   "cell_type": "code",
   "execution_count": 1,
   "metadata": {
    "collapsed": true
   },
   "outputs": [],
   "source": [
    "import os"
   ]
  },
  {
   "cell_type": "code",
   "execution_count": 4,
   "metadata": {
    "collapsed": false
   },
   "outputs": [
    {
     "data": {
      "text/plain": [
       "['.ipynb_checkpoints',\n",
       " 'anomaly_detection.ipynb',\n",
       " 'Data-Dictionary.csv',\n",
       " 'Data-Dictionary.xlsx',\n",
       " 'prediction_sample.csv',\n",
       " 'training_sample.csv']"
      ]
     },
     "execution_count": 4,
     "metadata": {},
     "output_type": "execute_result"
    }
   ],
   "source": [
    "os.listdir('.')"
   ]
  },
  {
   "cell_type": "code",
   "execution_count": 3,
   "metadata": {
    "collapsed": true
   },
   "outputs": [],
   "source": [
    "import csv"
   ]
  },
  {
   "cell_type": "code",
   "execution_count": 34,
   "metadata": {
    "collapsed": false
   },
   "outputs": [
    {
     "data": {
      "text/plain": [
       "{'count': 'number of connections to the same host as the current connection in the past two seconds',\n",
       " 'diff_srv_rate': '% of connections to different services',\n",
       " 'dst_bytes': 'number of data bytes from destination to source',\n",
       " 'dst_host_count': 'number of connections to the same host as the current connection in the past two seconds',\n",
       " 'dst_host_diff_srv_rate': '% of connections to different services',\n",
       " 'dst_host_rerror_rate': \"% of connections that have ``REJ'' errors\",\n",
       " 'dst_host_same_src_port_rate': '% of connections that have same source port rate',\n",
       " 'dst_host_same_srv_rate': '% of connections to the same service',\n",
       " 'dst_host_serror_rate': \"% of connections that have ``SYN'' errors\",\n",
       " 'dst_host_srv_count': 'number of connections to the same service as the current connection in the past two seconds',\n",
       " 'dst_host_srv_diff_host_rate': '% of connections to different hosts',\n",
       " 'dst_host_srv_rerror_rate': \"% of connections that have ``REJ'' errors\",\n",
       " 'dst_host_srv_serror_rate': \"% of connections that have ``SYN'' errors\",\n",
       " 'duration': 'length (number of seconds) of the connection',\n",
       " 'flag_S0': 'Connections with S0 status',\n",
       " 'flag_SF': 'Connections with SF status',\n",
       " 'hot': \"number of ``hot'' indicators\",\n",
       " 'ip': 'IP Address of the network element',\n",
       " 'is_guest_login': \"1 if the login is a ``guest''login; 0 otherwise\",\n",
       " 'is_hot_login': \"1 if the login belongs to the ``hot'' list; 0 otherwise\",\n",
       " 'land': '1 if connection is from/to the same host/port; 0 otherwise',\n",
       " 'logged_in': '1 if successfully logged in; 0 otherwise',\n",
       " 'num_access_files': 'number of operations on access control files',\n",
       " 'num_compromised': \"number of ``compromised'' conditions\",\n",
       " 'num_failed_logins': 'number of failed login attempts',\n",
       " 'num_file_creations': 'number of file creation operations',\n",
       " 'num_root': \"number of ``root'' accesses\",\n",
       " 'num_shells': 'number of shell prompts',\n",
       " 'protocol_type_icmp': 'connections with icmp protocol',\n",
       " 'protocol_type_tcp': 'connections with tcp protocol',\n",
       " 'rerror_rate': \"% of connections that have ``REJ'' errors\",\n",
       " 'root_shell': '1 if root shell is obtained; 0 otherwise',\n",
       " 'same_srv_rate': '% of connections to the same service',\n",
       " 'serror_rate': \"% of connections that have ``SYN'' errors\",\n",
       " 'service_ecr_i': 'connections with ECR network service on the destination',\n",
       " 'service_private': 'connections with Private network service on the destination',\n",
       " 'src_bytes': 'number of data bytes from source to destination',\n",
       " 'srv_count': 'number of connections to the same service as the current connection in the past two seconds',\n",
       " 'srv_diff_host_rate': '% of connections to different hosts',\n",
       " 'srv_rerror_rate': \"% of connections that have ``REJ'' errors\",\n",
       " 'srv_serror_rate': \"% of connections that have ``SYN'' errors\",\n",
       " 'su_attempted': \"1 if ``su root'' command attempted; 0 otherwise\",\n",
       " 'urgent': 'number of urgent packets',\n",
       " 'wrong_fragment': \"number of ``wrong'' fragments\"}"
      ]
     },
     "execution_count": 34,
     "metadata": {},
     "output_type": "execute_result"
    }
   ],
   "source": [
    "data_dict = {}\n",
    "with open('./Data-Dictionary.csv', 'r') as csvfile:\n",
    "    reader = csv.reader(csvfile,delimiter=',')\n",
    "    for row in reader:\n",
    "        #print(row)\n",
    "        #print(row[0],row[1],row[2],row[3])\n",
    "        if row[1].strip() != '' and row[1].strip() != 'Feature Name':\n",
    "            data_dict[row[1].strip()] = row[2].strip()#(row[2].strip(),row[3].strip()) \n",
    "data_dict"
   ]
  },
  {
   "cell_type": "code",
   "execution_count": null,
   "metadata": {
    "collapsed": false
   },
   "outputs": [],
   "source": [
    "with open('./training_sample.csv', 'r') as csvfile:\n",
    "    reader = csv.reader(csvfile,delimiter=',')\n",
    "    for row in reader:\n",
    "        #print(row)\n",
    "        #print(row[0],row[1],row[2],row[3])\n",
    "        if row[1].strip() != '' and row[1].strip() != 'Feature Name':\n",
    "            data_dict[row[1].strip()] = row[2].strip()#(row[2].strip(),row[3].strip()) "
   ]
  },
  {
   "cell_type": "code",
   "execution_count": null,
   "metadata": {
    "collapsed": true
   },
   "outputs": [],
   "source": []
  }
 ],
 "metadata": {
  "anaconda-cloud": {},
  "kernelspec": {
   "display_name": "Python [conda root]",
   "language": "python",
   "name": "conda-root-py"
  },
  "language_info": {
   "codemirror_mode": {
    "name": "ipython",
    "version": 3
   },
   "file_extension": ".py",
   "mimetype": "text/x-python",
   "name": "python",
   "nbconvert_exporter": "python",
   "pygments_lexer": "ipython3",
   "version": "3.5.2"
  }
 },
 "nbformat": 4,
 "nbformat_minor": 1
}
